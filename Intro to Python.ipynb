{
 "cells": [
  {
   "cell_type": "markdown",
   "metadata": {},
   "source": [
    "# Introduction\n",
    "\n",
    "This lab will help you through the basics of Python.\n",
    "\n",
    "We will go through:\n",
    "* Using the Jupyter notebook\n",
    "* Printing messages\n",
    "* Simple mathematics\n",
    "* Variables and Data Types\n",
    "* String operations: len, concat, replace, find, split\n",
    "* Functions\n",
    "* If and else\n",
    "* Lists: length, finding, sorting\n",
    "* For loops\n",
    "* Dictionaries\n",
    "* Some final exercises\n",
    "\n",
    "You can get more detail on almost all of this at the official python tutorial, which is well worth reading if you get stuck. You can find that here: https://docs.python.org/3/tutorial/ (small note - you can ignore Section 2 in that link, as we are running Python in a Notebook; you can also run Python on your local machine, of course)."
   ]
  },
  {
   "cell_type": "markdown",
   "metadata": {},
   "source": [
    "First, lets print some things out. Here's a line that prints \"Hello!\". If you select the next cell, and press the Run button in the toolbar, you should see it output Hello. The Run button looks like this: ![run](files/run-button.png) Try running this to see the output:"
   ]
  },
  {
   "cell_type": "code",
   "execution_count": null,
   "metadata": {
    "collapsed": false
   },
   "outputs": [],
   "source": [
    "print('Hello!')"
   ]
  },
  {
   "cell_type": "markdown",
   "metadata": {},
   "source": [
    "Everything in Jupyter is in Cells. A cell can be full of text (like this one!) or code (like the one above). You can tell a code cell because it will have \"In [ ]:\" or something similar at the side. A cell can have one line of code (like the one above), or several lines (like the next one). The lines of code get run in order. If it is a code cell, you can press the Run button in the toolbar to run the code. By the way, you can also run the contents of a cell by clicking on it and pressing `Shift+Enter`."
   ]
  },
  {
   "cell_type": "code",
   "execution_count": null,
   "metadata": {
    "collapsed": false
   },
   "outputs": [],
   "source": [
    "print('Nice to meet you!')"
   ]
  },
  {
   "cell_type": "markdown",
   "metadata": {},
   "source": [
    "Now create a cell that prints your name:"
   ]
  },
  {
   "cell_type": "code",
   "execution_count": null,
   "metadata": {
    "collapsed": true
   },
   "outputs": [],
   "source": [
    "# write your code below this line:\n"
   ]
  },
  {
   "cell_type": "markdown",
   "metadata": {},
   "source": [
    "Some code has comments in - these are things that help humans to understand it, but the computer will ignore them. In Python, comments start with a `#` sign. (On Macs, this is normally `Alt+3`). Comments can be on their own line, or they can be after a line of code."
   ]
  },
  {
   "cell_type": "code",
   "execution_count": null,
   "metadata": {
    "collapsed": false
   },
   "outputs": [],
   "source": [
    "print('This is a line of code')\n",
    "#This is a comment\n",
    "print('This is another line of code') #And this is another comment"
   ]
  },
  {
   "cell_type": "markdown",
   "metadata": {},
   "source": [
    "# Maths\n",
    "\n",
    "Programs often do some calculations, so here are some simple ones. You don't need to explicity `print` the result in these cases."
   ]
  },
  {
   "cell_type": "code",
   "execution_count": null,
   "metadata": {
    "collapsed": false
   },
   "outputs": [],
   "source": [
    "2 + 4 # Addition"
   ]
  },
  {
   "cell_type": "code",
   "execution_count": null,
   "metadata": {
    "collapsed": false
   },
   "outputs": [],
   "source": [
    "5 - 7 # Subtraction"
   ]
  },
  {
   "cell_type": "code",
   "execution_count": null,
   "metadata": {
    "collapsed": false
   },
   "outputs": [],
   "source": [
    "6 / 5 # Division"
   ]
  },
  {
   "cell_type": "code",
   "execution_count": null,
   "metadata": {
    "collapsed": false
   },
   "outputs": [],
   "source": [
    "3 * 4 # Multiplication"
   ]
  },
  {
   "cell_type": "markdown",
   "metadata": {},
   "source": [
    "Write a cell that does some simple calculations - try adding up all the numbers in todays date, or adding the number of letters in your first and second names. What happens if you do several calculations in the same cell?"
   ]
  },
  {
   "cell_type": "code",
   "execution_count": null,
   "metadata": {
    "collapsed": true
   },
   "outputs": [],
   "source": [
    "# Some calculations here..."
   ]
  },
  {
   "cell_type": "markdown",
   "metadata": {},
   "source": [
    "# Data Types\n",
    "There are several different kinds of data that you will find in python. To start with, we are interested in:\n",
    "* Integers (int): these are the counting numbers, 1, 2, 3, 4 etc. \n",
    "* Floating point numbers (float): these are numbers with decimal places, e.g. 1.5, 2.4, 3.14159 etc.\n",
    "* Strings (str): these are sequences of characters, which look like text.\n",
    "\n",
    "You can find what type something is with the `type()` function:"
   ]
  },
  {
   "cell_type": "code",
   "execution_count": null,
   "metadata": {
    "collapsed": false
   },
   "outputs": [],
   "source": [
    "type(1) #Integer"
   ]
  },
  {
   "cell_type": "code",
   "execution_count": null,
   "metadata": {
    "collapsed": false
   },
   "outputs": [],
   "source": [
    "type(2.4) # Float"
   ]
  },
  {
   "cell_type": "code",
   "execution_count": null,
   "metadata": {
    "collapsed": false
   },
   "outputs": [],
   "source": [
    "type('Hello')"
   ]
  },
  {
   "cell_type": "code",
   "execution_count": null,
   "metadata": {
    "collapsed": false
   },
   "outputs": [],
   "source": [
    "type('1') # If there are quotes, it is a String, even if the bit inside looks like a number"
   ]
  },
  {
   "cell_type": "code",
   "execution_count": null,
   "metadata": {
    "collapsed": false
   },
   "outputs": [],
   "source": [
    "type( 1 + 2 )"
   ]
  },
  {
   "cell_type": "code",
   "execution_count": null,
   "metadata": {
    "collapsed": false
   },
   "outputs": [],
   "source": [
    "type( 4 / 2 ) # When you do division, you always get a float!"
   ]
  },
  {
   "cell_type": "markdown",
   "metadata": {},
   "source": [
    "Types are important - if you try to put the wrong things together, you will get an error:"
   ]
  },
  {
   "cell_type": "code",
   "execution_count": null,
   "metadata": {
    "collapsed": false
   },
   "outputs": [],
   "source": [
    "'hello' + 1"
   ]
  },
  {
   "cell_type": "markdown",
   "metadata": {},
   "source": [
    "# Strings\n",
    "A string is a sequence of characters---mostly, they are used to represent text that people can read. They are mostly surrounded by quotes (either single ' or double \") like this:"
   ]
  },
  {
   "cell_type": "code",
   "execution_count": null,
   "metadata": {
    "collapsed": false
   },
   "outputs": [],
   "source": [
    "print('hello')"
   ]
  },
  {
   "cell_type": "markdown",
   "metadata": {},
   "source": [
    "Strings can be concatenated, using +"
   ]
  },
  {
   "cell_type": "code",
   "execution_count": null,
   "metadata": {
    "collapsed": false
   },
   "outputs": [],
   "source": [
    "'good' + 'morning'"
   ]
  },
  {
   "cell_type": "markdown",
   "metadata": {},
   "source": [
    "Python can tell us how long a string is:"
   ]
  },
  {
   "cell_type": "code",
   "execution_count": null,
   "metadata": {
    "collapsed": false
   },
   "outputs": [],
   "source": [
    "len('Hello')"
   ]
  },
  {
   "cell_type": "markdown",
   "metadata": {},
   "source": [
    "How long is the string 'Supercallifragalistic'?"
   ]
  },
  {
   "cell_type": "code",
   "execution_count": null,
   "metadata": {
    "collapsed": true
   },
   "outputs": [],
   "source": []
  },
  {
   "cell_type": "markdown",
   "metadata": {},
   "source": [
    "What is the combined length of 'Supercallifragalistic' and 'Expialidocious'? Try doing it by:\n",
    "1. combining the strings, and then calculating the length\n",
    "2. calculating the length of each string, and adding the numbers together"
   ]
  },
  {
   "cell_type": "code",
   "execution_count": null,
   "metadata": {
    "collapsed": true
   },
   "outputs": [],
   "source": []
  },
  {
   "cell_type": "markdown",
   "metadata": {},
   "source": [
    "Strings have lots of useful methods! You can find them on the reference page: (https://docs.python.org/3/library/stdtypes.html#text-sequence-type-str)\n",
    "\n",
    "In section 4.7.1, you will find lots of \"methods\" - these are functions you can run on a String. The first one has a description like this:\n",
    "\n",
    "str.capitalize()\n",
    "* Return a copy of the string with its first character capitalized and the rest lowercased.\n",
    "\n",
    "We can use it like this:"
   ]
  },
  {
   "cell_type": "code",
   "execution_count": null,
   "metadata": {
    "collapsed": false
   },
   "outputs": [],
   "source": [
    "'hello'.capitalize()"
   ]
  },
  {
   "cell_type": "markdown",
   "metadata": {},
   "source": [
    "Some of the functions take an argument - you have to tell it some extra information. For example:\n",
    "\n",
    "str.count(sub[, start[, end]])\n",
    "* Return the number of non-overlapping occurrences of substring sub in the range [start, end]. Optional arguments start and end are interpreted as in slice notation.\n",
    "\n",
    "This means that we need to tell count what to look for (you can ignore the start and end parameters for now). So, to count how many times 'cat' shows up in the string 'gatacatacataccatagcagcat', we would do:"
   ]
  },
  {
   "cell_type": "code",
   "execution_count": null,
   "metadata": {
    "collapsed": false
   },
   "outputs": [],
   "source": [
    "'gatacatacataccatagcagcat'.count('cat')"
   ]
  },
  {
   "cell_type": "markdown",
   "metadata": {},
   "source": [
    "How many times does 'dog' show up in 'dogdgdgdoogogoggdogdoggo'?"
   ]
  },
  {
   "cell_type": "code",
   "execution_count": null,
   "metadata": {
    "collapsed": true
   },
   "outputs": [],
   "source": []
  },
  {
   "cell_type": "markdown",
   "metadata": {},
   "source": [
    "Some functions give you a new string - for example, you can replace all the dogs with cats:"
   ]
  },
  {
   "cell_type": "code",
   "execution_count": null,
   "metadata": {
    "collapsed": false
   },
   "outputs": [],
   "source": [
    "'dogdgdgdoogogoggdogdoggo'.replace('dog','cat')"
   ]
  },
  {
   "cell_type": "markdown",
   "metadata": {},
   "source": [
    "Some functions tell you whether something is true or not. For example, is the string lowercase?"
   ]
  },
  {
   "cell_type": "code",
   "execution_count": null,
   "metadata": {
    "collapsed": false
   },
   "outputs": [],
   "source": [
    "'abc'.islower()"
   ]
  },
  {
   "cell_type": "code",
   "execution_count": null,
   "metadata": {
    "collapsed": false
   },
   "outputs": [],
   "source": [
    "'ABC'.islower()"
   ]
  },
  {
   "cell_type": "markdown",
   "metadata": {},
   "source": [
    "Have a look through some of the string functions in the documentation, and see what they do - experiment! You will not understand all of them, but don't worry - some of them are only for certain special situations."
   ]
  },
  {
   "cell_type": "markdown",
   "metadata": {},
   "source": [
    "## String Recap\n",
    "Now you know how to:\n",
    "* join two strings together with +\n",
    "* use len() to find the length of a string\n",
    "* change the case of strings\n",
    "* replace bits of one string with another\n",
    "* find letters or sequences within a string"
   ]
  },
  {
   "cell_type": "markdown",
   "metadata": {},
   "source": [
    "## String Exercises\n",
    "* how many times does the letter b show up in \"Ba-Babra-Ann\"? Count both uppercase and lowercase versions"
   ]
  },
  {
   "cell_type": "markdown",
   "metadata": {},
   "source": [
    "# Converting Data\n",
    "Sometimes you need to convert data from one type to another. Mostly, this will be turning strings into numbers or numbers into strings. You can use \n",
    "\n",
    "* `int()` to turn most things into an integer, \n",
    "* `float()` to turn things into a float, and \n",
    "* `str()` to turn things into a string:"
   ]
  },
  {
   "cell_type": "code",
   "execution_count": null,
   "metadata": {
    "collapsed": false
   },
   "outputs": [],
   "source": [
    "int(\"3\") # Turn the string \"3\" into an integer"
   ]
  },
  {
   "cell_type": "code",
   "execution_count": null,
   "metadata": {
    "collapsed": false
   },
   "outputs": [],
   "source": [
    "float(\"3\") # Turn \"3\" into a float"
   ]
  },
  {
   "cell_type": "code",
   "execution_count": null,
   "metadata": {
    "collapsed": false
   },
   "outputs": [],
   "source": [
    "str(3) # Turn the integer 3 into a string"
   ]
  },
  {
   "cell_type": "markdown",
   "metadata": {},
   "source": [
    "Sometimes it doesn't work - for example, you can't turn a string with decimal places into an int:"
   ]
  },
  {
   "cell_type": "code",
   "execution_count": null,
   "metadata": {
    "collapsed": false
   },
   "outputs": [],
   "source": [
    "int(\"3.5\")"
   ]
  },
  {
   "cell_type": "markdown",
   "metadata": {},
   "source": [
    "And you can't turn text into numbers:"
   ]
  },
  {
   "cell_type": "code",
   "execution_count": null,
   "metadata": {
    "collapsed": false
   },
   "outputs": [],
   "source": [
    "int('hello')"
   ]
  },
  {
   "cell_type": "markdown",
   "metadata": {},
   "source": [
    "As you know, numbers and strings work differently. For example:"
   ]
  },
  {
   "cell_type": "code",
   "execution_count": null,
   "metadata": {
    "collapsed": false
   },
   "outputs": [],
   "source": [
    "3 + 3"
   ]
  },
  {
   "cell_type": "code",
   "execution_count": null,
   "metadata": {
    "collapsed": false
   },
   "outputs": [],
   "source": [
    "'3' + '3'"
   ]
  },
  {
   "cell_type": "markdown",
   "metadata": {},
   "source": [
    "## Conversion exercises\n",
    "* Use the string \"5\" twice to get \"55\", turn it into an int, and then add 5 to get 60"
   ]
  },
  {
   "cell_type": "code",
   "execution_count": null,
   "metadata": {
    "collapsed": true
   },
   "outputs": [],
   "source": [
    "# Concatenate two copes of \"5\" to get \"55\", turn it into an int, and then add 5 to get 60"
   ]
  },
  {
   "cell_type": "markdown",
   "metadata": {},
   "source": [
    "# Variables\n",
    "Often, we want to store some data to refer to later by name. This is called creating a variable and a variable is simple string that makes some sense to you (the programmer). Variables are assigned __values__ like this:"
   ]
  },
  {
   "cell_type": "code",
   "execution_count": null,
   "metadata": {
    "collapsed": true
   },
   "outputs": [],
   "source": [
    "name = \"Jimmy\"\n",
    "height = 7.7\n",
    "arms = 2"
   ]
  },
  {
   "cell_type": "markdown",
   "metadata": {},
   "source": [
    "Once we have data as a variable, we can use it in calculations, and change its value. Try to figure out what will be printed before you run each of the following blocks:"
   ]
  },
  {
   "cell_type": "code",
   "execution_count": null,
   "metadata": {
    "collapsed": false
   },
   "outputs": [],
   "source": [
    "x = 5\n",
    "y = 3\n",
    "z = x + y\n",
    "print(z)"
   ]
  },
  {
   "cell_type": "code",
   "execution_count": null,
   "metadata": {
    "collapsed": false
   },
   "outputs": [],
   "source": [
    "x = 3\n",
    "y = 4\n",
    "x = x + 3\n",
    "z = x + y\n",
    "print(x)\n",
    "print(z)"
   ]
  },
  {
   "cell_type": "code",
   "execution_count": null,
   "metadata": {
    "collapsed": false
   },
   "outputs": [],
   "source": [
    "x = 3\n",
    "z = x + 3\n",
    "x = 7\n",
    "print(z)"
   ]
  },
  {
   "cell_type": "markdown",
   "metadata": {},
   "source": [
    "# Conditions with `if` and `else`\n",
    "Programs often make decisions about what to do based on data and the values in variables. This is often done with \"if\" statements. An if statement has:\n",
    "* a __condition__, which might be  `true` or `false`\n",
    "* an action, to do if the condition is `true`\n",
    "\n",
    "True and false are \"boolean\" values (which is just a fancy way of saying something that can be true or false).\n",
    "They often come from comparing things - is this number bigger than that number? are these strings the same? - or they come from testing something about the world - is it raining at the moment? has the user pressed a button?\n",
    "\n",
    "Important is that conditions always either `true` or `false`. They are never \"maybe\" or \"unknown\" or anything else.\n",
    "\n",
    "Comparing things works as follows: \n",
    "\n",
    "* start the row with the keyword `if`, followed by the condition. \n",
    "* end the row with double point :, \n",
    "* the __action__ must be intended through a single tab (press the tab key once)."
   ]
  },
  {
   "cell_type": "code",
   "execution_count": null,
   "metadata": {
    "collapsed": false
   },
   "outputs": [],
   "source": [
    "if 5 > 4:\n",
    "    print('Mathematics is working: 5 > 4!')"
   ]
  },
  {
   "cell_type": "code",
   "execution_count": null,
   "metadata": {
    "collapsed": true
   },
   "outputs": [],
   "source": [
    "if 5 < 4:\n",
    "    print('Mathematics is not working: 5 > 4!') # This line should not be shown below!"
   ]
  },
  {
   "cell_type": "markdown",
   "metadata": {},
   "source": [
    "Sometimes, you want to do something if the condition is __not `true`__ (i.e. it's `false`). This happens with an `else` statement followed by the intented action (again, using a single tab intent)\n",
    "- we can combine the two rows above:"
   ]
  },
  {
   "cell_type": "code",
   "execution_count": null,
   "metadata": {
    "collapsed": false
   },
   "outputs": [],
   "source": [
    "if 5 > 4:\n",
    "    print('Mathematics is working: 5 > 4!')\n",
    "else:\n",
    "    print('Mathematics is not working: 5 > 4!')"
   ]
  },
  {
   "cell_type": "markdown",
   "metadata": {},
   "source": [
    "There are lots of comparison operators here: https://docs.python.org/3/library/stdtypes.html#comparisons\n",
    "Try a few of them out to make sure you understand."
   ]
  },
  {
   "cell_type": "markdown",
   "metadata": {},
   "source": [
    "### NOTE: Indentation\n",
    "You will notice that some of the lines above are \"indented\" - they don't start at the beginning of the line. These are blocks of code - in Python, all the lines of a block have the same indentation:"
   ]
  },
  {
   "cell_type": "code",
   "execution_count": null,
   "metadata": {
    "collapsed": false
   },
   "outputs": [],
   "source": [
    "if False:\n",
    "    print(\"This is inside the block\") # This won't be run, because False is not True\n",
    "print(\"This is outside the block\") #This will be run, because it is not indented, so it is not controlled by the \"if\""
   ]
  },
  {
   "cell_type": "markdown",
   "metadata": {},
   "source": [
    "You can find an explanation of intendation and blocks here: http://www.python-course.eu/python3_blocks.php"
   ]
  },
  {
   "cell_type": "markdown",
   "metadata": {},
   "source": [
    "If and Else statements often use variables and can be nested. Here's an example (try changing the values for raining and hungry to see what happens)"
   ]
  },
  {
   "cell_type": "code",
   "execution_count": null,
   "metadata": {
    "collapsed": false
   },
   "outputs": [],
   "source": [
    "raining = True\n",
    "hungry = False\n",
    "if hungry:\n",
    "    if raining:\n",
    "        print(\"Taking an umbrella and running to Peppers\")\n",
    "    else:\n",
    "        print(\"Picnic on the meadows!\")\n",
    "else:\n",
    "    if raining:\n",
    "        print(\"Staying at home\")\n",
    "    else:\n",
    "        print(\"Going for a nice walk\")"
   ]
  },
  {
   "cell_type": "markdown",
   "metadata": {},
   "source": [
    "## Exercise:\n",
    "\n",
    "Now try to write something in your life as an if/else statement. Think of two variables, and some things that you might do depending on those variables, and write a plan of action that covers all of the possibilities."
   ]
  },
  {
   "cell_type": "markdown",
   "metadata": {},
   "source": [
    "# Lists\n",
    "Often, we have several pieces of data we want to keep together in a particular order. This is called a List. (documentation: https://docs.python.org/3/library/stdtypes.html#sequence-types-list-tuple-range)\n",
    "\n",
    "Lists can contain any data type (e.g., int, float, sting, as well as other lists) and are created using square brackets [ and ] like this:"
   ]
  },
  {
   "cell_type": "code",
   "execution_count": null,
   "metadata": {
    "collapsed": false
   },
   "outputs": [],
   "source": [
    "['monday','tuesday','wednesday','thursday','friday']"
   ]
  },
  {
   "cell_type": "markdown",
   "metadata": {},
   "source": [
    "We can put them in a variable:"
   ]
  },
  {
   "cell_type": "code",
   "execution_count": null,
   "metadata": {
    "collapsed": false
   },
   "outputs": [],
   "source": [
    "weekdays = ['monday','tuesday','wednesday','thursday','friday','saturday','sunday']\n",
    "print(weekdays)\n"
   ]
  },
  {
   "cell_type": "markdown",
   "metadata": {},
   "source": [
    "We can get things out of a list by saying what number item we want. Counting for this starts at 0, not 1 as you might expect:"
   ]
  },
  {
   "cell_type": "code",
   "execution_count": null,
   "metadata": {
    "collapsed": false
   },
   "outputs": [],
   "source": [
    "print(weekdays[0])"
   ]
  },
  {
   "cell_type": "code",
   "execution_count": null,
   "metadata": {
    "collapsed": false
   },
   "outputs": [],
   "source": [
    "print(weekdays[6])"
   ]
  },
  {
   "cell_type": "code",
   "execution_count": null,
   "metadata": {
    "collapsed": true
   },
   "outputs": [],
   "source": [
    "# Figure out what number to put in to get wednesday out of the list"
   ]
  },
  {
   "cell_type": "markdown",
   "metadata": {},
   "source": [
    "We can also get several things out at once (using `:`)- this will be another, shorter list:"
   ]
  },
  {
   "cell_type": "code",
   "execution_count": null,
   "metadata": {
    "collapsed": false
   },
   "outputs": [],
   "source": [
    "weekdays[0:5]"
   ]
  },
  {
   "cell_type": "markdown",
   "metadata": {},
   "source": [
    "This can go into a variable as well:"
   ]
  },
  {
   "cell_type": "code",
   "execution_count": null,
   "metadata": {
    "collapsed": false
   },
   "outputs": [],
   "source": [
    "workingdays = weekdays[0:5]\n",
    "print(workingdays)"
   ]
  },
  {
   "cell_type": "markdown",
   "metadata": {},
   "source": [
    "For lists of numbers, there are some easy ways to create them:"
   ]
  },
  {
   "cell_type": "code",
   "execution_count": null,
   "metadata": {
    "collapsed": false
   },
   "outputs": [],
   "source": [
    "list(range(10))"
   ]
  },
  {
   "cell_type": "code",
   "execution_count": null,
   "metadata": {
    "collapsed": false
   },
   "outputs": [],
   "source": [
    "list(range(4,15))"
   ]
  },
  {
   "cell_type": "markdown",
   "metadata": {},
   "source": [
    "We can set certain values in a list:"
   ]
  },
  {
   "cell_type": "code",
   "execution_count": null,
   "metadata": {
    "collapsed": false
   },
   "outputs": [],
   "source": [
    "colours = ['red', 'red', 'blue']\n",
    "# oops, we've got red twice!\n",
    "colours[1] = 'green'\n",
    "print(colours)"
   ]
  },
  {
   "cell_type": "markdown",
   "metadata": {},
   "source": [
    "There are lots more things you can do to lists - some of them are here: https://docs.python.org/3/library/stdtypes.html#mutable-sequence-types\n",
    "or here:\n",
    "https://docs.python.org/3/tutorial/datastructures.html#more-on-lists"
   ]
  },
  {
   "cell_type": "markdown",
   "metadata": {},
   "source": [
    "## Exercises\n",
    "* make a list of your friends, and then add yourself to the end of it\n",
    "* make a list of some fruits, and then delete the one you don't like. Try doing this by the index (i.e. what position the fruit is in) and by using the remove() function\n",
    "* use len() to find out how many days there are in the list of weekdays\n",
    "* use count() to find out how many times the string 'a' appears in the list ['a', 'b', 'a', 'c', 'x', 'ac', 'b']"
   ]
  },
  {
   "cell_type": "code",
   "execution_count": null,
   "metadata": {
    "collapsed": true
   },
   "outputs": [],
   "source": [
    "# make a list of your friends, and then add yourself to the end of it"
   ]
  },
  {
   "cell_type": "code",
   "execution_count": null,
   "metadata": {
    "collapsed": true
   },
   "outputs": [],
   "source": [
    "# make a list of some fruits, and then delete the one you don't like. \n",
    "# Try doing this by the index (i.e. what position the fruit is in) and by using the remove() functio"
   ]
  },
  {
   "cell_type": "code",
   "execution_count": null,
   "metadata": {
    "collapsed": true
   },
   "outputs": [],
   "source": [
    "# use len() to find out how many days there are in the list of weekdays"
   ]
  },
  {
   "cell_type": "code",
   "execution_count": null,
   "metadata": {
    "collapsed": true
   },
   "outputs": [],
   "source": [
    "# use count() to find out how many times the string 'a' appears in the list ['a', 'b', 'a', 'c', 'x', 'ac', 'b']"
   ]
  },
  {
   "cell_type": "markdown",
   "metadata": {},
   "source": [
    "# Loops\n",
    "It is really common to want to do something lots of times - for example, to change every item in a list, or to print a sequence of numbers. This is often done with a 'for' loop. In the loop you have:\n",
    "\n",
    "* a __list__ of things to run the loop on,\n",
    "* a __variable__, which will be set to each of the things in the list\n",
    "* a __block of code__, which will be carried out for each thing\n",
    "\n",
    "It looks like this:"
   ]
  },
  {
   "cell_type": "code",
   "execution_count": null,
   "metadata": {
    "collapsed": false
   },
   "outputs": [],
   "source": [
    "weekdays = ['monday', 'tuesday', 'wednesday', 'thursday', 'friday', 'saturday', 'sunday']\n",
    "for day in weekdays: # We are going to set 'day' to each of the weekdays in turn\n",
    "    print(day.capitalize()) # We will capitalise the day before printing it"
   ]
  },
  {
   "cell_type": "markdown",
   "metadata": {},
   "source": [
    "You can also work over a range of numbers, using range(). This is particulary useful is you need to do a certain things for a fixed number of times."
   ]
  },
  {
   "cell_type": "code",
   "execution_count": null,
   "metadata": {
    "collapsed": false
   },
   "outputs": [],
   "source": [
    "for num in range(10):\n",
    "    print( num, '-->', num * 10 )"
   ]
  },
  {
   "cell_type": "markdown",
   "metadata": {},
   "source": [
    "You can combine for loops with if and else:"
   ]
  },
  {
   "cell_type": "code",
   "execution_count": null,
   "metadata": {
    "collapsed": false
   },
   "outputs": [],
   "source": [
    "for num in range(10):\n",
    "    if num % 2 == 0: # % means divide by that number and see what is left, so 3 % 2 = 1, 5 % 3 = 2\n",
    "        print(num, \"Even\")\n",
    "    else:\n",
    "        print(num, \"Odd\")"
   ]
  },
  {
   "cell_type": "markdown",
   "metadata": {},
   "source": [
    "You can also put for loops inside each other - for instance to go through every square in a 3x3 grid:"
   ]
  },
  {
   "cell_type": "code",
   "execution_count": null,
   "metadata": {
    "collapsed": false
   },
   "outputs": [],
   "source": [
    "for x in range(3):\n",
    "    for y in range(3):\n",
    "        print('Cell',x, y )"
   ]
  },
  {
   "cell_type": "markdown",
   "metadata": {},
   "source": [
    "# Dictionaries\n",
    "Dictionaries are a bit like list, but they are useful when you want to associate 'keys' with 'values', rather than just numbers (as in the examples above). An example would be \"What colour is each fruit?\". We used numbers to work with the elements in a list - with a dictionary, we use string 'keys'. \n",
    "\n",
    "Dictionaries are created as key-value pairs in curly brackets { } like so:"
   ]
  },
  {
   "cell_type": "code",
   "execution_count": null,
   "metadata": {
    "collapsed": true
   },
   "outputs": [],
   "source": [
    "fruit_colors = {'apple' : 'green', \n",
    "                'orange' : 'orange', \n",
    "                'grape':'red', \n",
    "                'banana':'yellow', \n",
    "                'apricot':'yellow'}\n"
   ]
  },
  {
   "cell_type": "markdown",
   "metadata": {},
   "source": [
    "Note that every key can only appear once! E.g., in our example, you cannot have two colors per fruit. However, you can multiple fruits with the same color (value).\n",
    "\n",
    "We can now access (read and write) values (colors) through their keys (fruits):"
   ]
  },
  {
   "cell_type": "code",
   "execution_count": null,
   "metadata": {
    "collapsed": false
   },
   "outputs": [],
   "source": [
    "print(fruit_colors['apple'])\n",
    "fruit_colors['apple'] = 'red'\n",
    "print(fruit_colors['apple'])\n",
    "print(fruit_colors)"
   ]
  },
  {
   "cell_type": "markdown",
   "metadata": {},
   "source": [
    "One common thing you need to do is go through everything in the dictionary. This is similar to doing it with a list, but slightly different:\n",
    "* we get two values each time - the key and the value (here we put them into variables called k and v\n",
    "* we have to call items() on the dictionary, we can't just use it directly"
   ]
  },
  {
   "cell_type": "code",
   "execution_count": null,
   "metadata": {
    "collapsed": false,
    "scrolled": true
   },
   "outputs": [],
   "source": [
    "for k,v in fruit_colors.items(): \n",
    "    print(k,'is',v)"
   ]
  },
  {
   "cell_type": "markdown",
   "metadata": {},
   "source": [
    "Make a dictionary of your friends, and some feature of them (e.g. what colour is their hair). Write a loop that only prints out friends that have a certain attribute (e.g. all of my friends with pink hair)."
   ]
  },
  {
   "cell_type": "code",
   "execution_count": null,
   "metadata": {
    "collapsed": true
   },
   "outputs": [],
   "source": []
  },
  {
   "cell_type": "markdown",
   "metadata": {},
   "source": [
    "Print all fruits that are yellow, using a loop and an if-else condition on the value."
   ]
  },
  {
   "cell_type": "code",
   "execution_count": null,
   "metadata": {
    "collapsed": true
   },
   "outputs": [],
   "source": []
  },
  {
   "cell_type": "markdown",
   "metadata": {},
   "source": [
    "# Functions\n",
    "We have been using functions without talking about them. There are several parts to a function:\n",
    "* a name - how people can refer to the function, e.g. `doSomething()`.\n",
    "* some arguments - what does the function need in order to do its job. Arguments (also called parameters) are written into the brackets following the function name.\n",
    "* a block of code - what the function actually does each time it is called somewhere in your program\n",
    "* a return value - what is the result of doing the function. This return value can then be printed or written into a variable.\n",
    "\n",
    "Some examples that you have seen:\n",
    "* len() is a function that takes one argument - a string or list etc. - and returns the length of that thing\n",
    "* print() is a function that takes any number of arguments, and prints them all out\n",
    "\n",
    "Some functions belong to objects. For example:\n",
    "* \"hello\".capitalize() - the function capitalize 'belongs' to Strings, so you need a string to call it on."
   ]
  },
  {
   "cell_type": "markdown",
   "metadata": {},
   "source": [
    "\n",
    "We have been *using* functions so far, but now we can *define* them, and make your own functions. Here is a simple example:"
   ]
  },
  {
   "cell_type": "code",
   "execution_count": null,
   "metadata": {
    "collapsed": false
   },
   "outputs": [],
   "source": [
    "def add_one(x): # Define a function called 'add_one', that takes one argument called 'x'\n",
    "    value = x+1  # Do some computation\n",
    "    return(value)# Give back the result when you're done\n",
    "\n",
    "print( add_one(7) )"
   ]
  },
  {
   "cell_type": "markdown",
   "metadata": {},
   "source": [
    "Functions can take many arguments, of different types. Here's one that takes two strings, and puts them together with a dash in between:"
   ]
  },
  {
   "cell_type": "code",
   "execution_count": null,
   "metadata": {
    "collapsed": false
   },
   "outputs": [],
   "source": [
    "def put_together(string1, string2):\n",
    "    value = string1 + '-' + string2\n",
    "    return(value)\n",
    "\n",
    "print( put_together('first','second'))"
   ]
  },
  {
   "cell_type": "markdown",
   "metadata": {},
   "source": [
    "Write a function that takes two numbers and multiplies them together"
   ]
  },
  {
   "cell_type": "code",
   "execution_count": null,
   "metadata": {
    "collapsed": true
   },
   "outputs": [],
   "source": []
  },
  {
   "cell_type": "markdown",
   "metadata": {},
   "source": [
    "Write a function that takes two strings, and counts how many times the first string appears in the second string"
   ]
  },
  {
   "cell_type": "code",
   "execution_count": null,
   "metadata": {
    "collapsed": true
   },
   "outputs": [],
   "source": []
  },
  {
   "cell_type": "markdown",
   "metadata": {},
   "source": [
    "# Final Exercises\n",
    "\n",
    "## FizzBuzz\n",
    "FizzBuzz is a game to play with your friends. \n",
    "* You take it in turn to say a number, starting at 1 and going up each time, so the first person says \"one\", second person says \"two\", third person says \"three\", going round in a circle. \n",
    "* When you can do that, if a number is divisible by 3, you say \"fizz\" instead of the number, so it would go: \"one\", \"two\", \"fizz\", \"four\", \"five\", \"fizz\", \"seven\" etc.\n",
    "* Now, if a number is divisible by five, you say buzz instead: \"one\", \"two\", \"fizz\", \"four\", \"buzz\", \"fizz\", \"seven\" etc.\n",
    "* Finally, if a number is divisible by both three *and* five, you say \"fizzbuzz!\"\n",
    "\n",
    "Start by playing the game with three or more people to make sure you understand the rules\n",
    "Now write a program to play it.\n",
    "Tips:\n",
    "* use a for loop and a range to generate all the numbers up to 100\n",
    "* start by just printing the numbers\n",
    "* now use if and else statements to decide what to do"
   ]
  },
  {
   "cell_type": "code",
   "execution_count": null,
   "metadata": {
    "collapsed": true
   },
   "outputs": [],
   "source": []
  },
  {
   "cell_type": "markdown",
   "metadata": {},
   "source": [
    "## Personal Program\n",
    "Find something in your daily life where you make a decision. Write down the variables that go into your decision, and then try to model your thinking using if and else statements (this is a repeat of the exercise further up, just in case you skipped it first time around)"
   ]
  },
  {
   "cell_type": "code",
   "execution_count": null,
   "metadata": {
    "collapsed": true
   },
   "outputs": [],
   "source": []
  },
  {
   "cell_type": "code",
   "execution_count": null,
   "metadata": {
    "collapsed": true
   },
   "outputs": [],
   "source": []
  }
 ],
 "metadata": {
  "kernelspec": {
   "display_name": "Python 3",
   "language": "python",
   "name": "python3"
  },
  "language_info": {
   "codemirror_mode": {
    "name": "ipython",
    "version": 3
   },
   "file_extension": ".py",
   "mimetype": "text/x-python",
   "name": "python",
   "nbconvert_exporter": "python",
   "pygments_lexer": "ipython3",
   "version": "3.6.2"
  }
 },
 "nbformat": 4,
 "nbformat_minor": 1
}
