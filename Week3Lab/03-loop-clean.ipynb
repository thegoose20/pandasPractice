{
 "cells": [
  {
   "cell_type": "markdown",
   "metadata": {
    "cell_tags": []
   },
   "source": [
    "## Analyzing Multiple Data Sets"
   ]
  },
  {
   "cell_type": "markdown",
   "metadata": {
    "cell_tags": []
   },
   "source": [
    "Using our experience of plotting from the first notebook, and our experience defining functions in the second, we can write a function called `analyze` that creates graphs of the minimum, average, and maximum daily inflammation rates for a single data set.  Go ahead and write that here.  Don't forget to load the relevant libraries.  Also, it's a good idea to give the magic invocation `%matplotlib inline` right at the start so that we don't forget about that either."
   ]
  },
  {
   "cell_type": "code",
   "execution_count": null,
   "metadata": {
    "cell_tags": [],
    "collapsed": true
   },
   "outputs": [],
   "source": []
  },
  {
   "cell_type": "markdown",
   "metadata": {
    "cell_tags": []
   },
   "source": [
    "We can use it to analyze other data sets one by one.  Let's try it on the second data set, for a change."
   ]
  },
  {
   "cell_type": "code",
   "execution_count": null,
   "metadata": {
    "cell_tags": []
   },
   "outputs": [],
   "source": []
  },
  {
   "cell_type": "markdown",
   "metadata": {
    "cell_tags": []
   },
   "source": [
    "So that's convenient, but we have a dozen data sets right now and more on the way.\n",
    "We want to create plots for all our data sets with a single statement.\n",
    "To do that,\n",
    "we'll have to teach the computer how to repeat things."
   ]
  },
  {
   "cell_type": "markdown",
   "metadata": {
    "cell_tags": [
     "objectives"
    ]
   },
   "source": [
    "#### Objectives\n",
    "\n",
    "*   Explain what a `for` loop does.\n",
    "*   Correctly write `for` loops to repeat simple calculations.\n",
    "*   Trace changes to a loop variable as the loop runs.\n",
    "*   Trace changes to other variables as they are updated by a `for` loop.\n",
    "*   Explain what a list is.\n",
    "*   Create and index lists of simple values.\n",
    "*   Use a library function to get a list of filenames that match a simple wildcard pattern.\n",
    "*   Use a `for` loop to process multiple files."
   ]
  },
  {
   "cell_type": "markdown",
   "metadata": {
    "cell_tags": []
   },
   "source": [
    "### For Loops"
   ]
  },
  {
   "cell_type": "markdown",
   "metadata": {
    "cell_tags": []
   },
   "source": [
    "Suppose we want to print each character in the word \"lead\" on a line of its own.\n",
    "One way is to use four `print` statements.  For illustrative purposes, let's package this behavior up in a function (even though it's a kind of silly function)."
   ]
  },
  {
   "cell_type": "code",
   "execution_count": null,
   "metadata": {
    "cell_tags": []
   },
   "outputs": [],
   "source": []
  },
  {
   "cell_type": "markdown",
   "metadata": {
    "cell_tags": []
   },
   "source": [
    "This isn't a great approach for two reasons:\n",
    "\n",
    "1.  It doesn't scale:\n",
    "    if we want to print the characters in a string that's hundreds of letters long,\n",
    "    we'd be better off just typing them in.\n",
    "\n",
    "1.  It's fragile:\n",
    "    We might accidentally forget to ask for enough characters, or we might ask to print characters that don't exist.\n",
    "    \n",
    "Try calling your function on some input that's *not* four letters long, just to drive the point home."
   ]
  },
  {
   "cell_type": "code",
   "execution_count": null,
   "metadata": {
    "collapsed": true
   },
   "outputs": [],
   "source": []
  },
  {
   "cell_type": "markdown",
   "metadata": {},
   "source": [
    "Here's a better approach, using a *`for` loop*.\n",
    "\n",
    "``` python\n",
    "def print_characters(element):\n",
    "    for char in element:\n",
    "        print(char)\n",
    "```\n",
    "\n",
    "Go ahead and enter that in."
   ]
  },
  {
   "cell_type": "code",
   "execution_count": null,
   "metadata": {
    "cell_tags": [],
    "collapsed": true
   },
   "outputs": [],
   "source": []
  },
  {
   "cell_type": "markdown",
   "metadata": {
    "cell_tags": []
   },
   "source": [
    "This code is both succinct and robust.  Try it on some arbitrary word."
   ]
  },
  {
   "cell_type": "code",
   "execution_count": null,
   "metadata": {
    "cell_tags": [],
    "collapsed": true
   },
   "outputs": [],
   "source": []
  },
  {
   "cell_type": "markdown",
   "metadata": {
    "cell_tags": []
   },
   "source": [
    "The improved version of `print_characters` uses a [for loop](./gloss.html#for-loop)\n",
    "to repeat an operation---in this case, printing---once for each thing in a collection.\n",
    "The general form of a loop is:\n",
    "\n",
    "<pre>\n",
    "<strong>for</strong> <em>variable</em> <strong>in</strong> <em>collection</em><strong>:</strong>\n",
    "    <em>do things with variable</em>\n",
    "</pre>"
   ]
  },
  {
   "cell_type": "markdown",
   "metadata": {
    "cell_tags": []
   },
   "source": [
    "We can call the [loop variable](./gloss.html#loop-variable) anything we like,\n",
    "but there must be a colon at the end of the line starting the loop,\n",
    "and we must indent the body of the loop.\n",
    "\n",
    "Can you write a `for` loop that repeatedly updates a variable to count how many letters are in a string?"
   ]
  },
  {
   "cell_type": "code",
   "execution_count": null,
   "metadata": {
    "cell_tags": [],
    "collapsed": true
   },
   "outputs": [],
   "source": []
  },
  {
   "cell_type": "markdown",
   "metadata": {
    "cell_tags": []
   },
   "source": [
    "It's worth tracing the execution of this little program step by step.\n",
    "Since there are five characters in `'aeiou'`, for example,\n",
    "with this input the \"update\" statement will be executed five times.\n",
    "The first time around,\n",
    "our counter is zero \n",
    "and `vowel` is `'a'`.\n",
    "The update statement adds 1 to the old value of the counter.\n",
    "The next time around,\n",
    "`vowel` is `'e'` and the counter is 1,\n",
    "but is then updated to be 2.\n",
    "After three more updates,\n",
    "the counter will be 5;\n",
    "then, since there is nothing left in `'aeiou'` for Python to process,\n",
    "the loop finishes\n",
    "and a final `print` statement tells us our final answer.\n",
    "\n",
    "Note that a loop variable is just a variable that's being used to record progress in a loop.\n",
    "It still exists after the loop is over,\n",
    "and we can re-use variables previously defined as loop variables as well.  Try that now."
   ]
  },
  {
   "cell_type": "code",
   "execution_count": null,
   "metadata": {
    "collapsed": true
   },
   "outputs": [],
   "source": []
  },
  {
   "cell_type": "markdown",
   "metadata": {
    "cell_tags": []
   },
   "source": [
    "Note also that finding the length of a string is such a common operation\n",
    "that Python actually has a built-in function to do it called `len`.  Use that function to compute the number of vowels."
   ]
  },
  {
   "cell_type": "code",
   "execution_count": null,
   "metadata": {
    "cell_tags": [],
    "collapsed": true
   },
   "outputs": [],
   "source": []
  },
  {
   "cell_type": "markdown",
   "metadata": {
    "cell_tags": []
   },
   "source": [
    "`len` has been optimized to be faster than any function we could write ourselves,\n",
    "and much easier to read than a two-line loop;\n",
    "it will also give us the length of other things besides strings.  We generally use built-in functions like this when we can."
   ]
  },
  {
   "cell_type": "markdown",
   "metadata": {
    "cell_tags": [
     "challenges"
    ]
   },
   "source": [
    "#### Challenges\n",
    "\n",
    "1.  Python has a built-in function called `range` that creates a list of numbers:\n",
    "    `range(3)` produces `[0, 1, 2]`, `range(2, 5)` produces `[2, 3, 4]`, and `range(2, 10, 3)` produces `[2, 5, 8]`.\n",
    "    Using `range`,\n",
    "    write a function that prints $N$ natural numbers for arbitrary integer input $N$:\n",
    "    \n",
    "    ~~~python\n",
    "    print_N(3)\n",
    "    1\n",
    "    2\n",
    "    3\n",
    "    ~~~\n",
    "\n",
    "1.  Exponentiation is built into Python:\n",
    "\n",
    "    ~~~python\n",
    "    print 5**3\n",
    "    125\n",
    "    ~~~\n",
    "    \n",
    "    It also has a function called `pow` that calculates the same value.\n",
    "    Write a function called `expo` that uses a loop to calculate the same result.\n",
    "\n",
    "1.  Write a function called `rev` that takes a string as input, and produces a new string with the characters in reverse order:\n",
    "    \n",
    "    ~~~python\n",
    "    print rev('Newton')\n",
    "    notweN\n",
    "    ~~~\n",
    "    \n",
    "    As always, be sure to include a docstring."
   ]
  },
  {
   "cell_type": "markdown",
   "metadata": {
    "cell_tags": []
   },
   "source": [
    "### Lists"
   ]
  },
  {
   "cell_type": "markdown",
   "metadata": {
    "cell_tags": []
   },
   "source": [
    "Just as a `for` loop is a way to do operations many times,\n",
    "a list is a way to store many values.\n",
    "Unlike NumPy arrays,\n",
    "lists are built into the basic Pyhton language.\n",
    "We create a list by putting values inside square brackets:"
   ]
  },
  {
   "cell_type": "code",
   "execution_count": null,
   "metadata": {
    "cell_tags": [],
    "collapsed": true
   },
   "outputs": [],
   "source": []
  },
  {
   "cell_type": "markdown",
   "metadata": {
    "cell_tags": []
   },
   "source": [
    "We select individual elements from lists by indexing them.  You can use a negative index to count backwards from the end of a list."
   ]
  },
  {
   "cell_type": "code",
   "execution_count": null,
   "metadata": {
    "cell_tags": [],
    "collapsed": true
   },
   "outputs": [],
   "source": []
  },
  {
   "cell_type": "markdown",
   "metadata": {
    "cell_tags": []
   },
   "source": [
    "and if we loop over a list,\n",
    "the loop variable is assigned elements from the list one at a time:"
   ]
  },
  {
   "cell_type": "code",
   "execution_count": null,
   "metadata": {
    "cell_tags": [],
    "collapsed": true
   },
   "outputs": [],
   "source": []
  },
  {
   "cell_type": "markdown",
   "metadata": {
    "cell_tags": []
   },
   "source": [
    "There is one important difference between lists and strings:\n",
    "we can change the values in a list,\n",
    "but we cannot change the characters in a string.\n",
    "Try creating a list and updating at some particular index."
   ]
  },
  {
   "cell_type": "code",
   "execution_count": null,
   "metadata": {
    "cell_tags": [],
    "collapsed": true
   },
   "outputs": [],
   "source": []
  },
  {
   "cell_type": "markdown",
   "metadata": {
    "cell_tags": []
   },
   "source": [
    "Now try doing that with a string."
   ]
  },
  {
   "cell_type": "code",
   "execution_count": null,
   "metadata": {
    "cell_tags": [],
    "collapsed": true
   },
   "outputs": [],
   "source": []
  },
  {
   "cell_type": "markdown",
   "metadata": {
    "cell_tags": []
   },
   "source": [
    "> #### Ch-Ch-Ch-Changes\n",
    ">\n",
    "> Data that can be changed is called [mutable](./gloss.html#mutable),\n",
    "> while data that cannot be is called [immutable](./gloss.html#immutable).\n",
    "> Like strings,\n",
    "> numbers are immutable:\n",
    "> there's no way to make the number 0 have the value 1 or vice versa\n",
    "> (at least, not in Python&mdash;there actually *are* languages that will let people do this,\n",
    "> with predictably confusing results).\n",
    "> Lists and arrays,\n",
    "> on the other hand,\n",
    "> are mutable:\n",
    "> both can be modified after they have been created.\n",
    ">\n",
    "> Programs that modify data in place can be harder to understand than ones that don't\n",
    "> because readers may have to mentally sum up many lines of code\n",
    "> in order to figure out what the value of something actually is.\n",
    "> On the other hand,\n",
    "> programs that modify data in place instead of creating copies that are almost identical to the original\n",
    "> every time they want to make a small change\n",
    "> are more efficient.\n",
    "\n",
    "There are many ways to change the contents of in lists besides assigning values to indexed elements.  Lists have an `append` method, for example.  The `del` \"statement\" can be used to delete arbitrary indexed elements: note that it is not a method, and although it behaves like a function, it is traditional not to put parentheses around its \"argument\".  And there's another method, `reverse`.  Try these now."
   ]
  },
  {
   "cell_type": "code",
   "execution_count": null,
   "metadata": {
    "cell_tags": [],
    "collapsed": true
   },
   "outputs": [],
   "source": []
  },
  {
   "cell_type": "code",
   "execution_count": null,
   "metadata": {
    "cell_tags": []
   },
   "outputs": [],
   "source": []
  },
  {
   "cell_type": "code",
   "execution_count": null,
   "metadata": {
    "cell_tags": [],
    "collapsed": true
   },
   "outputs": [],
   "source": []
  },
  {
   "cell_type": "markdown",
   "metadata": {
    "cell_tags": [
     "challenges"
    ]
   },
   "source": [
    "#### Challenges\n",
    "\n",
    "1.  Write a function called `total` that calculates the sum of the values in a list.\n",
    "    (Python has a built-in function called `sum` that does this for you.\n",
    "    Please don't use it for this exercise.)"
   ]
  },
  {
   "cell_type": "markdown",
   "metadata": {
    "cell_tags": []
   },
   "source": [
    "### Processing Multiple Files"
   ]
  },
  {
   "cell_type": "markdown",
   "metadata": {
    "cell_tags": []
   },
   "source": [
    "We now have almost everything we need to process all our data files.\n",
    "The only thing that's missing is a library with a rather unpleasant name.  Can you guess what it is?"
   ]
  },
  {
   "cell_type": "code",
   "execution_count": null,
   "metadata": {
    "cell_tags": [],
    "collapsed": true
   },
   "outputs": [],
   "source": []
  },
  {
   "cell_type": "markdown",
   "metadata": {
    "cell_tags": []
   },
   "source": [
    "The `glob` library contains a single function, also called `glob`,\n",
    "that finds files whose names match a pattern.\n",
    "We provide those patterns as strings:\n",
    "the character `*` matches zero or more characters,\n",
    "while `?` matches any one character.\n",
    "We can use this to get the names of all the IPython Notebooks we have created so far:"
   ]
  },
  {
   "cell_type": "code",
   "execution_count": null,
   "metadata": {
    "cell_tags": [],
    "collapsed": true
   },
   "outputs": [],
   "source": []
  },
  {
   "cell_type": "markdown",
   "metadata": {
    "cell_tags": []
   },
   "source": [
    "or to get the names of all our CSV data files:"
   ]
  },
  {
   "cell_type": "code",
   "execution_count": null,
   "metadata": {
    "cell_tags": [],
    "collapsed": true
   },
   "outputs": [],
   "source": []
  },
  {
   "cell_type": "markdown",
   "metadata": {
    "cell_tags": []
   },
   "source": [
    "As these examples show,\n",
    "`glob.glob`'s result is a list of strings,\n",
    "which means we can loop over it\n",
    "to do something with each filename in turn.\n",
    "In our case,\n",
    "the \"something\" we want is our `analyze` function.\n",
    "Let's test this by analyzing the first three files in the list.  (Hint: remember how to use slices?)"
   ]
  },
  {
   "cell_type": "code",
   "execution_count": null,
   "metadata": {
    "cell_tags": [],
    "collapsed": true
   },
   "outputs": [],
   "source": []
  },
  {
   "cell_type": "markdown",
   "metadata": {
    "cell_tags": []
   },
   "source": [
    "Sure enough,\n",
    "the maxima of these data sets show exactly the same ramp as the first,\n",
    "and their minima show the same staircase structure."
   ]
  },
  {
   "cell_type": "markdown",
   "metadata": {
    "cell_tags": [
     "challenges"
    ]
   },
   "source": [
    "#### Challenges\n",
    "\n",
    "1.  Write a function called `analyze_all` that takes a filename pattern as its sole argument\n",
    "    and runs `analyze` for each file whose name matches the pattern."
   ]
  },
  {
   "cell_type": "markdown",
   "metadata": {
    "cell_tags": []
   },
   "source": [
    "#### Key Points\n",
    "\n",
    "*   Use `for variable in collection` to process the elements of a collection one at a time.\n",
    "*   The body of a for loop must be indented.\n",
    "*   Use `len(thing)` to determine the length of something that contains other values.\n",
    "*   `[value1, value2, value3, ...]` creates a list.\n",
    "*   Lists are indexed and sliced in the same way as strings and arrays.\n",
    "*   Lists are mutable (i.e., their values can be changed in place).\n",
    "*   Strings are immutable (i.e., the characters in them cannot be changed).\n",
    "*   Use `glob.glob(pattern)` to create a list of files whose names match a pattern.\n",
    "*   Use `*` in a pattern to match zero or more characters, and `?` to match any single character."
   ]
  },
  {
   "cell_type": "markdown",
   "metadata": {
    "cell_tags": []
   },
   "source": [
    "#### Next Steps\n",
    "\n",
    "We have now solved our original problem:\n",
    "we can analyze any number of data files with a single command.\n",
    "More importantly,\n",
    "we have met two of the most important ideas in programming:\n",
    "\n",
    "1.  Use functions to make code easier to re-use and easier to understand.\n",
    "1.  Use lists and arrays to store related values, and loops to repeat operations on them.\n",
    "\n",
    "We have one more big idea to introduce,\n",
    "and then we will be able to go back and create a heat map\n",
    "like the one we initially used to display our first data set."
   ]
  }
 ],
 "metadata": {
  "kernelspec": {
   "display_name": "Python 3",
   "language": "python",
   "name": "python3"
  },
  "language_info": {
   "codemirror_mode": {
    "name": "ipython",
    "version": 3
   },
   "file_extension": ".py",
   "mimetype": "text/x-python",
   "name": "python",
   "nbconvert_exporter": "python",
   "pygments_lexer": "ipython3",
   "version": "3.5.2"
  }
 },
 "nbformat": 4,
 "nbformat_minor": 1
}
