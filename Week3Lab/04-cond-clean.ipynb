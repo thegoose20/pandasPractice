{
 "cells": [
  {
   "cell_type": "markdown",
   "metadata": {
    "cell_tags": []
   },
   "source": [
    "## Making Choices"
   ]
  },
  {
   "cell_type": "markdown",
   "metadata": {
    "cell_tags": []
   },
   "source": [
    "Our previous lessons have shown us how to manipulate data,\n",
    "define our own functions,\n",
    "and repeat things.\n",
    "However,\n",
    "the programs we have written so far always do the same things,\n",
    "regardless of what data they're given.\n",
    "We want programs to make choices based on the values they are manipulating.\n",
    "To help us see what decisions they're making,\n",
    "we'll start by looking at how computers manipulate images."
   ]
  },
  {
   "cell_type": "markdown",
   "metadata": {
    "cell_tags": [
     "objectives"
    ]
   },
   "source": [
    "#### Objectives\n",
    "\n",
    "*   Create a simple \"image\" made out of colored blocks.\n",
    "*   Explain how the RGB model represents colors.\n",
    "*   Explain the similarities and differences between tuples and lists.\n",
    "*   Write conditional statements including `if`, `elif`, and `else` branches.\n",
    "*   Correctly evaluate expressions containing `and` and `or`.\n",
    "*   Correctly write and interpret code containing nested loops and conditionals.\n",
    "*   Explain the advantages of putting frequently-modified code in a function."
   ]
  },
  {
   "cell_type": "markdown",
   "metadata": {
    "cell_tags": []
   },
   "source": [
    "### Image Grids"
   ]
  },
  {
   "cell_type": "markdown",
   "metadata": {
    "cell_tags": []
   },
   "source": [
    "Let's start by creating some simple heat maps of our own\n",
    "using a library called `ipythonblocks`.\n",
    "The first step is to import `ImageGrid` from this library."
   ]
  },
  {
   "cell_type": "code",
   "execution_count": null,
   "metadata": {
    "cell_tags": [],
    "collapsed": true
   },
   "outputs": [],
   "source": []
  },
  {
   "cell_type": "markdown",
   "metadata": {},
   "source": [
    "Once we have `ImageGrid` loaded,\n",
    "we can use it to create a very simple grid of colored cells.  `ImageGrid` takes two parameters, the width and height, and returns a grid.  This grid has a method `show`.  Make one and have a look:"
   ]
  },
  {
   "cell_type": "code",
   "execution_count": null,
   "metadata": {},
   "outputs": [],
   "source": [
    "\n"
   ]
  },
  {
   "cell_type": "markdown",
   "metadata": {
    "cell_tags": []
   },
   "source": [
    "Just like a NumPy array,\n",
    "an `ImageGrid` has some properties that hold information about it: `width`, `height`, and `lines_on` for example.  These aren't methods, so don't need parentheses.  Print them for your example."
   ]
  },
  {
   "cell_type": "code",
   "execution_count": null,
   "metadata": {
    "cell_tags": []
   },
   "outputs": [],
   "source": []
  },
  {
   "cell_type": "markdown",
   "metadata": {
    "cell_tags": []
   },
   "source": [
    "The obvious thing to do with a grid like this is to color in its cells,\n",
    "but in order to do that,\n",
    "we need to know how computers represent color.\n",
    "The most common schemes are [RGB](./gloss.html#rgb),\n",
    "which is short for \"red, green, blue\".\n",
    "RGB is an [additive color model](./gloss.html#additive-color-model):\n",
    "every shade is some combination of red, green, and blue intensities.\n",
    "We can think of these three values as being the axes in a cube:\n",
    "\n",
    "<img src=\"http://metameso.org/~joe/ds4d/color-cube.png\" alt=\"RGB Color Cube\" />\n",
    "\n",
    "An RGB color is an example of a multi-part value. Like a Cartesian coordinate,\n",
    "it is \"one thing\" with several parts.\n",
    "We can represent such a value in Python using a [tuple](./gloss.html#tuple),\n",
    "which we write using parentheses instead of the square brackets used for a list.  Define some tuples with two and three components now:"
   ]
  },
  {
   "cell_type": "code",
   "execution_count": null,
   "metadata": {
    "cell_tags": [],
    "collapsed": true
   },
   "outputs": [],
   "source": []
  },
  {
   "cell_type": "markdown",
   "metadata": {
    "cell_tags": []
   },
   "source": [
    "We can select elements from tuples using indexing,\n",
    "just as we do with lists and arrays:"
   ]
  },
  {
   "cell_type": "code",
   "execution_count": null,
   "metadata": {
    "cell_tags": [],
    "collapsed": true
   },
   "outputs": [],
   "source": []
  },
  {
   "cell_type": "markdown",
   "metadata": {
    "cell_tags": []
   },
   "source": [
    "Unlike lists and arrays,\n",
    "though,\n",
    "tuples cannot be changed after they are created&mdash;in technical terms,\n",
    "they are [immutable](./gloss.html#immutable).  See what happens if you try to change one."
   ]
  },
  {
   "cell_type": "code",
   "execution_count": null,
   "metadata": {
    "cell_tags": []
   },
   "outputs": [],
   "source": []
  },
  {
   "cell_type": "markdown",
   "metadata": {
    "cell_tags": []
   },
   "source": [
    "If a tuple represents an RGB color,\n",
    "its red, green, and blue components can take on values between 0 and 255.\n",
    "The upper bound may seem odd,\n",
    "but it's the largest number that can be represented in an 8-bit byte\n",
    "(i.e., 2<sup>8</sup>-1).\n",
    "This makes it easy for computers to manipulate colors,\n",
    "while providing fine enough gradations to fool most human eyes,\n",
    "most of the time.\n",
    "\n",
    "Let's see what a few RGB colors actually look like by making an `ImageGrid` with width 8 and height 1, and filling its cells with the eight different colors whose components are either `0` or `255`."
   ]
  },
  {
   "cell_type": "code",
   "execution_count": null,
   "metadata": {
    "cell_tags": [],
    "collapsed": true
   },
   "outputs": [],
   "source": []
  },
  {
   "cell_type": "markdown",
   "metadata": {
    "cell_tags": []
   },
   "source": [
    "Simple color values like `(0,255,0)` are easy enough to decipher with a bit of practice,\n",
    "but what color is `(214,90,127)`?\n",
    "To help us,\n",
    "`ipythonblocks` provides a function called `show_color`.  Let's import this function now, and try it out."
   ]
  },
  {
   "cell_type": "code",
   "execution_count": null,
   "metadata": {
    "cell_tags": [],
    "collapsed": true
   },
   "outputs": [],
   "source": []
  },
  {
   "cell_type": "markdown",
   "metadata": {
    "cell_tags": []
   },
   "source": [
    "It also provides an array of standard `colors` with names.  Import that, and make another `ImageGrid` and fill it in with some of the colors from this list: https://github.com/jiffyclub/ipythonblocks/blob/master/ipythonblocks/ipythonblocks.py#L1132\n",
    "(By the way, at that link you can see the source code for the `ipythonblocks` package.  Cool stuff, right?)"
   ]
  },
  {
   "cell_type": "code",
   "execution_count": null,
   "metadata": {
    "cell_tags": [],
    "collapsed": true
   },
   "outputs": [],
   "source": []
  },
  {
   "cell_type": "markdown",
   "metadata": {
    "cell_tags": [
     "challenges"
    ]
   },
   "source": [
    "#### Challenges\n",
    "\n",
    "1.  Fill in the `____` in the code below to create a bar that changes color from dark blue to black.\n",
    "\n",
    "    ~~~python\n",
    "    bar = ImageGrid(10, 1)\n",
    "    for x in range(10):\n",
    "        bar[x, 0] = (0, 0, ____)\n",
    "    bar.show()\n",
    "    ~~~\n",
    "\n",
    "2.  Why do computers use red, green, and blue as their primary colors?"
   ]
  },
  {
   "cell_type": "markdown",
   "metadata": {
    "cell_tags": []
   },
   "source": [
    "### Conditionals"
   ]
  },
  {
   "cell_type": "markdown",
   "metadata": {
    "cell_tags": []
   },
   "source": [
    "In order to create a *heat map* we need a way to pick a color based on a data value.\n",
    "The tool Python gives us for doing this is called a [conditional statement](./gloss.html#conditional-statement),\n",
    "and looks like this:\n",
    "\n",
    "``` python\n",
    "num = 37\n",
    "if num > 100:\n",
    "    print('greater')\n",
    "else:\n",
    "    print('not greater')\n",
    "print('done')\n",
    "```\n",
    "\n",
    "Type that in and see what it does:"
   ]
  },
  {
   "cell_type": "code",
   "execution_count": null,
   "metadata": {
    "cell_tags": [],
    "collapsed": true
   },
   "outputs": [],
   "source": []
  },
  {
   "cell_type": "markdown",
   "metadata": {
    "cell_tags": []
   },
   "source": [
    "The second line of this code uses the keyword `if` to tell Python that we want to make a choice.\n",
    "If the test that follows it is true,\n",
    "the body of the `if`\n",
    "(i.e., the line or lines indented underneath it) are executed.\n",
    "If the test is false,\n",
    "the body of the `else` is executed instead.\n",
    "Only one or the other is ever executed:"
   ]
  },
  {
   "cell_type": "markdown",
   "metadata": {
    "cell_tags": []
   },
   "source": [
    "<img src=\"http://metameso.org/~joe/ds4d/python-flowchart-conditional.svg\" alt=\"Executing a Conditional\" />"
   ]
  },
  {
   "cell_type": "markdown",
   "metadata": {
    "cell_tags": []
   },
   "source": [
    "Conditional statements don't have to include an `else`.\n",
    "If there isn't one,\n",
    "Python simply does nothing if the test is false.  Try that with an example now:"
   ]
  },
  {
   "cell_type": "code",
   "execution_count": null,
   "metadata": {
    "cell_tags": [],
    "collapsed": true
   },
   "outputs": [],
   "source": []
  },
  {
   "cell_type": "markdown",
   "metadata": {
    "cell_tags": []
   },
   "source": [
    "We can also chain several tests together using `elif`,\n",
    "which is short for \"else if\", together with one final `else`.  Remember to include a `:` after each test as well as the `else`.\n",
    "This makes it simple to write a function that returns the sign of a number, for example.  Give that a try:"
   ]
  },
  {
   "cell_type": "code",
   "execution_count": null,
   "metadata": {
    "cell_tags": [],
    "collapsed": true
   },
   "outputs": [],
   "source": []
  },
  {
   "cell_type": "markdown",
   "metadata": {
    "cell_tags": []
   },
   "source": [
    "Remember to use a double equals sign `==` to test for equality\n",
    "rather than a single equals sign\n",
    "because the latter is used to mean assignment.\n",
    "This convention was inherited from C,\n",
    "and while many other programming languages work the same way,\n",
    "it does take a bit of getting used to...\n",
    "\n",
    "We can also combine tests using `and` and `or`.\n",
    "The function `and` is only true if both parts are true (try it):"
   ]
  },
  {
   "cell_type": "code",
   "execution_count": null,
   "metadata": {
    "cell_tags": [],
    "collapsed": true
   },
   "outputs": [],
   "source": []
  },
  {
   "cell_type": "markdown",
   "metadata": {
    "cell_tags": []
   },
   "source": [
    "while `or` is true if either part is true (try it):"
   ]
  },
  {
   "cell_type": "code",
   "execution_count": null,
   "metadata": {
    "cell_tags": [],
    "collapsed": true
   },
   "outputs": [],
   "source": []
  },
  {
   "cell_type": "markdown",
   "metadata": {
    "cell_tags": []
   },
   "source": [
    "In this case,\n",
    "\"either\" means \"either or both\", not \"either one or the other but not both\"."
   ]
  },
  {
   "cell_type": "markdown",
   "metadata": {
    "cell_tags": [
     "challenges"
    ]
   },
   "source": [
    "#### Challenges\n",
    "\n",
    "1.  `True` and `False` aren't the only values in Python that are true and false.\n",
    "    In fact, *any* value can be used in an `if` or `elif`.\n",
    "    After reading and running the code below,\n",
    "    explain what the rule is for which values are considered true and which are considered false.\n",
    "    (Note that if the body of a conditional is a single statement, we can write it on the same line as the `if`.)\n",
    "    \n",
    "    ~~~python\n",
    "    if '': print 'empty string is true'\n",
    "    if 'word': print 'word is true'\n",
    "    if []: print 'empty list is true'\n",
    "    if [1, 2, 3]: print 'non-empty list is true'\n",
    "    if 0: print 'zero is true'\n",
    "    if 1: print 'one is true'\n",
    "    ~~~\n",
    "\n",
    "2.  Write a function called `near` that returns `True` if its first parameter is within 10% of its second\n",
    "    and `False` otherwise.\n",
    "    Compare your implementation with your partner's:\n",
    "    do you return the same answer for all possible pairs of numbers?"
   ]
  },
  {
   "cell_type": "markdown",
   "metadata": {
    "cell_tags": []
   },
   "source": [
    "### Nesting"
   ]
  },
  {
   "cell_type": "markdown",
   "metadata": {
    "cell_tags": []
   },
   "source": [
    "Another thing to realize is that `if` statements can be combined with loops\n",
    "just as easily as they can be combined with functions.\n",
    "For example,\n",
    "if we want to sum up only the positive numbers in a list,\n",
    "we can write a `for` loop with an `if` statement inside. Try that now."
   ]
  },
  {
   "cell_type": "code",
   "execution_count": null,
   "metadata": {
    "cell_tags": [],
    "collapsed": true
   },
   "outputs": [],
   "source": []
  },
  {
   "cell_type": "markdown",
   "metadata": {
    "cell_tags": []
   },
   "source": [
    "We could equally well calculate the positive and negative sums in a single loop:"
   ]
  },
  {
   "cell_type": "code",
   "execution_count": null,
   "metadata": {
    "cell_tags": [],
    "collapsed": true
   },
   "outputs": [],
   "source": []
  },
  {
   "cell_type": "markdown",
   "metadata": {
    "cell_tags": []
   },
   "source": [
    "We can even put one loop inside another.  Try making one `for` loop inside another one in order to make several combinations of different letters and numbers."
   ]
  },
  {
   "cell_type": "code",
   "execution_count": null,
   "metadata": {
    "cell_tags": [],
    "collapsed": true
   },
   "outputs": [],
   "source": []
  },
  {
   "cell_type": "markdown",
   "metadata": {
    "cell_tags": []
   },
   "source": [
    "As the diagram below shows,\n",
    "the [inner loop](./gloss.html#inner-loop) runs from start to finish\n",
    "each time the [outer loop](./gloss.html#outer-loop) runs once:"
   ]
  },
  {
   "cell_type": "markdown",
   "metadata": {
    "cell_tags": []
   },
   "source": [
    "<img src=\"files/img/python-flowchart-nested-loops.svg\" alt=\"Execution of Nested Loops\" />"
   ]
  },
  {
   "cell_type": "markdown",
   "metadata": {
    "cell_tags": []
   },
   "source": [
    "We can combine nesting and conditionals to create patterns in an image.  Try writing a `for` loop containing `if`/`elif`/`else` statements to fill in the cells of a square `ImageGrid` so that its diagonal is one color, and its off-diagonal cells are two different colors."
   ]
  },
  {
   "cell_type": "code",
   "execution_count": null,
   "metadata": {
    "cell_tags": [],
    "collapsed": true
   },
   "outputs": [],
   "source": []
  },
  {
   "cell_type": "markdown",
   "metadata": {
    "cell_tags": []
   },
   "source": [
    "This is our first hand-made data visualization:\n",
    "the colors show where `x` is less than, equal to, or greater than `y`."
   ]
  },
  {
   "cell_type": "markdown",
   "metadata": {
    "cell_tags": [
     "challenges"
    ]
   },
   "source": [
    "#### Challenges\n",
    "\n",
    "1.  Will changing the nesting of the loops in the code above&mdash;i.e.,\n",
    "    wrapping the Y-axis loop around the X-axis loop&mdash;change the final image?\n",
    "    Why or why not?\n",
    "\n",
    "2.  Python (and most other languages in the C family) provides [in-place operators](./gloss.html#in-place-operator)\n",
    "    that work like this:\n",
    "    \n",
    "    ~~~python\n",
    "    x = 1  # original value\n",
    "    x += 1 # add one to x, assigning result back to x\n",
    "    x *= 3 # multiply x by 3\n",
    "    print x\n",
    "    6\n",
    "    ~~~\n",
    "    \n",
    "    Rewrite the code that sums the positive and negative numbers in a list\n",
    "    using in-place operators.\n",
    "    Do you think the result is more or less readable than the original?"
   ]
  },
  {
   "cell_type": "markdown",
   "metadata": {
    "cell_tags": []
   },
   "source": [
    "### Creating a Heat Map"
   ]
  },
  {
   "cell_type": "markdown",
   "metadata": {
    "cell_tags": []
   },
   "source": [
    "The last step is to turn our data into something we can see.\n",
    "As in previous lessons,\n",
    "the first step is to get the data into memory:"
   ]
  },
  {
   "cell_type": "code",
   "execution_count": null,
   "metadata": {
    "cell_tags": [],
    "collapsed": true
   },
   "outputs": [],
   "source": []
  },
  {
   "cell_type": "markdown",
   "metadata": {
    "cell_tags": []
   },
   "source": [
    "The second is to create an image grid that is the same size as the data.  Hint: here's a neat trick:\n",
    "we can unpack the values in a tuple like `data.shape` by assigning it to several comma-separated variables in one statement."
   ]
  },
  {
   "cell_type": "code",
   "execution_count": null,
   "metadata": {
    "cell_tags": [],
    "collapsed": true
   },
   "outputs": [],
   "source": []
  },
  {
   "cell_type": "markdown",
   "metadata": {
    "cell_tags": []
   },
   "source": [
    "The third step is to decide *how* we are going to color the cells in the heat map.\n",
    "To keep things simple,\n",
    "we will use red, green, and blue as our colors,\n",
    "and compare data values to the data set's mean.\n",
    "The logic is similar to what we did with the square, above."
   ]
  },
  {
   "cell_type": "code",
   "execution_count": null,
   "metadata": {
    "cell_tags": [],
    "collapsed": true
   },
   "outputs": [],
   "source": []
  },
  {
   "cell_type": "markdown",
   "metadata": {
    "cell_tags": []
   },
   "source": [
    "This may be what we asked for,\n",
    "but both the image and the code are both bound to be pretty hideous.  Depending on how you wrote the code are some potential problems:\n",
    "\n",
    "1.   It's too large for us to view the whole thing at once on a small laptop screen.\n",
    "2.   It might be best for the heatmap to have time along the X axis, not the Y axis.\n",
    "3.   Red against blue is pretty hard on the eyes.\n",
    "4.   The heatmap only shows two colors because none of the (integer) measurements has exactly the same value as the (fractional) mean.\n",
    "5.   We are calculating the mean of `data` either once or twice each time we go through the loop.  That means that on a 40&times;60 data set, we are performing the same calculation 2400 times.\n",
    "\n",
    "Here's how we can improve it:\n",
    "\n",
    "1.   We can give `ImageGrid` an optional parameter `block_size` to set the size of each block, so that more data gets mapped into each cell of the grid we display.\n",
    "2.   We can transpose our data before creating the grid using the `transpose` method.\n",
    "3.   We can pick better colors (I'm personally fond of orchid, fuchsia, and hot pink).\n",
    "4.   Instead of checking if values are exactly equal to the mean, we can see if they are close to it.\n",
    "5.   We can calculate the mean once, before we start our loops, and use that value over and over.\n",
    "\n",
    "Give it another try."
   ]
  },
  {
   "cell_type": "code",
   "execution_count": null,
   "metadata": {
    "cell_tags": [],
    "collapsed": true
   },
   "outputs": [],
   "source": []
  },
  {
   "cell_type": "markdown",
   "metadata": {
    "cell_tags": []
   },
   "source": [
    "To make further improvements, we could rewrite our loop a third time,\n",
    "but the right thing to do is to put our code in a function\n",
    "so that we can experiment with bands and colors more easily.  Let's encapsulate everything in a function that takes a bunch of useful parameters and returns a heatmap."
   ]
  },
  {
   "cell_type": "code",
   "execution_count": null,
   "metadata": {
    "cell_tags": [],
    "collapsed": true
   },
   "outputs": [],
   "source": []
  },
  {
   "cell_type": "markdown",
   "metadata": {
    "cell_tags": []
   },
   "source": [
    "To test this function,\n",
    "we'll run it with the settings we just used:"
   ]
  },
  {
   "cell_type": "code",
   "execution_count": null,
   "metadata": {
    "cell_tags": [],
    "collapsed": true
   },
   "outputs": [],
   "source": []
  },
  {
   "cell_type": "markdown",
   "metadata": {
    "cell_tags": []
   },
   "source": [
    "Now let's widen the band around the mean, and perhaps use some more dramatic colors:"
   ]
  },
  {
   "cell_type": "code",
   "execution_count": null,
   "metadata": {
    "cell_tags": [],
    "collapsed": true
   },
   "outputs": [],
   "source": []
  },
  {
   "cell_type": "markdown",
   "metadata": {
    "cell_tags": []
   },
   "source": [
    "We'll probably want to experiment a bit more before publishing,\n",
    "but writing a function has made experimenting easy.\n",
    "We can make it even easier by re-defining our function one more time\n",
    "to give the parameters default values.\n",
    "While we're at it,\n",
    "let's put the low and high bands at the front,\n",
    "since they're more likely to change than our color choices:"
   ]
  },
  {
   "cell_type": "code",
   "execution_count": null,
   "metadata": {
    "cell_tags": [],
    "collapsed": true
   },
   "outputs": [],
   "source": []
  },
  {
   "cell_type": "markdown",
   "metadata": {
    "cell_tags": []
   },
   "source": [
    "Once default values are added,\n",
    "the function's first line is too long to fit comfortably on our screen.\n",
    "Rather than breaking it wherever it hits the right edge of the screen,\n",
    "we have divided the parameters into logical groups to make it more readable.\n",
    "\n",
    "Again,\n",
    "our first test is to re-run it with the same values as before\n",
    "(which we give it in a different order,\n",
    "since we've changed the order of parameters):"
   ]
  },
  {
   "cell_type": "code",
   "execution_count": null,
   "metadata": {
    "cell_tags": [],
    "collapsed": true
   },
   "outputs": [],
   "source": []
  },
  {
   "cell_type": "markdown",
   "metadata": {
    "cell_tags": []
   },
   "source": [
    "We can now leave out everything except the data being visualized,\n",
    "or provide the data and the bands\n",
    "and re-use the default colors and block size:"
   ]
  },
  {
   "cell_type": "code",
   "execution_count": null,
   "metadata": {
    "cell_tags": [],
    "collapsed": true
   },
   "outputs": [],
   "source": []
  },
  {
   "cell_type": "markdown",
   "metadata": {
    "cell_tags": []
   },
   "source": [
    "We can now explore our data with just a few keystrokes,\n",
    "which means we can concentrate on our science\n",
    "and not on our programming."
   ]
  },
  {
   "cell_type": "markdown",
   "metadata": {
    "cell_tags": [
     "challenges"
    ]
   },
   "source": [
    "#### Challenges\n",
    "\n",
    "1.  Why did we transpose our data outside our heat map function?\n",
    "    Why not have the function perform the transpose?\n",
    "\n",
    "2.  Why does the heat map function return the grid rather than displaying it immediately?\n",
    "    Do you think this is a good or bad design choice?\n",
    "\n",
    "3.  Explain what the overall effect of this code is:\n",
    "\n",
    "    ~~~\n",
    "    temp = left\n",
    "    left = right\n",
    "    right = temp\n",
    "    ~~~\n",
    "    \n",
    "    Compare it to:\n",
    "    \n",
    "    ~~~\n",
    "    left, right = right, left\n",
    "    ~~~\n",
    "    \n",
    "    Do they always do the same thing?\n",
    "    Which do you find easier to read?"
   ]
  },
  {
   "cell_type": "markdown",
   "metadata": {
    "cell_tags": [
     "keypoints"
    ]
   },
   "source": [
    "#### Key Points\n",
    "\n",
    "*   Use the `ImageGrid` class from the `ipythonblocks` library to create simple \"images\" made of colored blocks.\n",
    "*   Specify colors use (red, green, blue) triples, each component of which is an integer in the range 0..255.\n",
    "*   Use `if condition` to start a conditional statement, `elif condition` to provide additional tests, and `else` to provide a default.\n",
    "*   The bodies of the branches of conditional statements must be indented.\n",
    "*   Use `==` to test for equality.\n",
    "*   `X and Y` is only true if both X and Y are true.\n",
    "*   `X or Y` is true if either X or Y, or both, are true.\n",
    "*   Zero, the empty string, and the empty list are considered false; all other numbers, strings, and lists are considered true.\n",
    "*   Nest loops to operate on multi-dimensional data.\n",
    "*   Put code whose parameters change frequently in a function, then call it with different parameter values to customize its behavior."
   ]
  },
  {
   "cell_type": "markdown",
   "metadata": {
    "cell_tags": []
   },
   "source": [
    "#### Next Steps\n",
    "\n",
    "Our final heatmap function is 17 lines long,\n",
    "which means that if there's a 95% chance of each line being correct,\n",
    "the odds of the whole function being right are only 41%.\n",
    "Before we go any further,\n",
    "we need to learn how to test whether our code is doing what we want it to do,\n",
    "and that will be the subject of the next lesson."
   ]
  }
 ],
 "metadata": {
  "kernelspec": {
   "display_name": "Python 3",
   "language": "python",
   "name": "python3"
  },
  "language_info": {
   "codemirror_mode": {
    "name": "ipython",
    "version": 3
   },
   "file_extension": ".py",
   "mimetype": "text/x-python",
   "name": "python",
   "nbconvert_exporter": "python",
   "pygments_lexer": "ipython3",
   "version": "3.5.2"
  }
 },
 "nbformat": 4,
 "nbformat_minor": 1
}
